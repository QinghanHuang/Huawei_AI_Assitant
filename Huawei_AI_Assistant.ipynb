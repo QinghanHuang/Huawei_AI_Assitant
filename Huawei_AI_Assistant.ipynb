{
 "cells": [
  {
   "cell_type": "markdown",
   "id": "031962c1",
   "metadata": {},
   "source": [
    "# 0. Import library"
   ]
  },
  {
   "cell_type": "code",
   "execution_count": 1,
   "id": "5495defd",
   "metadata": {},
   "outputs": [],
   "source": [
    "import sqlite3\n",
    "import pandas as pd\n",
    "\n",
    "import re\n",
    "from typing import List, Dict\n",
    "from transformers import AutoTokenizer, AutoModelForSeq2SeqLM\n",
    "from difflib import SequenceMatcher\n",
    "\n",
    "# for answer\n",
    "from transformers import GPT2LMHeadModel, GPT2Tokenizer\n",
    "\n",
    "# need library\n",
    "# pip3 install torch torchvision "
   ]
  },
  {
   "cell_type": "markdown",
   "id": "30bf9a61",
   "metadata": {},
   "source": [
    "# 1. Use  database file connect DB"
   ]
  },
  {
   "cell_type": "markdown",
   "id": "2f8366fd",
   "metadata": {},
   "source": [
    "## 1.1 database file"
   ]
  },
  {
   "cell_type": "code",
   "execution_count": 2,
   "id": "aa473270",
   "metadata": {},
   "outputs": [],
   "source": [
    "# database file\n",
    "covid_file = \"example-data/example-covid-vaccinations.sqlite3\"\n",
    "data_file=\"example-data/example-data.sqlite3\"\n",
    "simple_file=\"example-data/example-simple.sqlite3\"\n",
    "murder_file=\"example-data/sql-murder-mystery.sqlite3\"\n",
    "buildings_file=\"example-data/tallest_buildings_global.sqlite3\"\n",
    "\n",
    "database_files = [\n",
    "    covid_file,\n",
    "    data_file,\n",
    "    simple_file,\n",
    "    murder_file,\n",
    "    buildings_file\n",
    "]\n"
   ]
  },
  {
   "cell_type": "markdown",
   "id": "2701a6b3",
   "metadata": {},
   "source": [
    "## 1.2 connection"
   ]
  },
  {
   "cell_type": "code",
   "execution_count": 3,
   "id": "f316ebc7",
   "metadata": {},
   "outputs": [],
   "source": [
    "# build connection\n",
    "covid_connection = sqlite3.connect(covid_file)\n",
    "data_connection=sqlite3.connect(data_file)\n",
    "simple_connection=sqlite3.connect(simple_file)\n",
    "murder_connection=sqlite3.connect(murder_file)\n",
    "buildings_connection=sqlite3.connect(buildings_file)\n",
    "\n",
    "connections_list = [\n",
    "    covid_connection,\n",
    "    data_connection,\n",
    "    simple_connection,\n",
    "    murder_connection,\n",
    "    buildings_connection\n",
    "]"
   ]
  },
  {
   "cell_type": "code",
   "execution_count": 4,
   "id": "f0f4bc9d",
   "metadata": {},
   "outputs": [],
   "source": [
    "db=[\"covid\",\"data\",\"simple\",\"murder\",\"buildings\"]"
   ]
  },
  {
   "cell_type": "markdown",
   "id": "5c082436",
   "metadata": {},
   "source": [
    "## 1.3 Generate \n",
    "\n",
    " 1. all_table_name=[]\n",
    " 2. df_all_table\n",
    " 3. table_db_mapping={}"
   ]
  },
  {
   "cell_type": "code",
   "execution_count": 5,
   "id": "8fd0bfeb",
   "metadata": {},
   "outputs": [],
   "source": [
    "df_all_table = {}\n",
    "table_db_mapping={}\n",
    "all_table_name=[]\n",
    "i=0\n",
    "for connection in connections_list:\n",
    "    cursor = connection.cursor()\n",
    "    \n",
    "    cursor.execute(\"SELECT name FROM sqlite_master WHERE type='table';\")\n",
    "    \n",
    "    table_names = [name[0] for name in cursor.fetchall()]\n",
    "    all_table_name.extend(table_names)\n",
    "    \n",
    "    for table_name in table_names:\n",
    " \n",
    "        # 执行查询以从表格中检索数据，并将结果存储在 DataFrame 中\n",
    "        query = f\"SELECT * FROM {table_name}\"\n",
    "        df = pd.read_sql_query(query, connection)\n",
    "        \n",
    "        table_db_mapping[table_name] = db[i];\n",
    "\n",
    "        # 将 DataFrame 存储在字典中，以表格名称为键\n",
    "        df_all_table[table_name] = df\n",
    "    i=i+1"
   ]
  },
  {
   "cell_type": "markdown",
   "id": "af79fc1f",
   "metadata": {},
   "source": [
    "## 1.4 Test all the df are corect"
   ]
  },
  {
   "cell_type": "code",
   "execution_count": 6,
   "id": "7eff6c07",
   "metadata": {},
   "outputs": [
    {
     "data": {
      "text/plain": [
       "['covid_vaccinations',\n",
       " 'pre_ranking_filter_log',\n",
       " 'pre_ranking_filter_key_mapping',\n",
       " 'predicted_metric_log',\n",
       " 'real_metric_log',\n",
       " 'request_log',\n",
       " 'users',\n",
       " 'orders',\n",
       " 'crime_scene_report',\n",
       " 'drivers_license',\n",
       " 'facebook_event_checkin',\n",
       " 'interview',\n",
       " 'get_fit_now_member',\n",
       " 'get_fit_now_check_in',\n",
       " 'solution',\n",
       " 'income',\n",
       " 'person',\n",
       " 'talles_buildings']"
      ]
     },
     "execution_count": 6,
     "metadata": {},
     "output_type": "execute_result"
    }
   ],
   "source": [
    "all_table_name"
   ]
  },
  {
   "cell_type": "code",
   "execution_count": 7,
   "id": "d09dfec3",
   "metadata": {},
   "outputs": [
    {
     "data": {
      "text/plain": [
       "{'covid_vaccinations': 'covid',\n",
       " 'pre_ranking_filter_log': 'data',\n",
       " 'pre_ranking_filter_key_mapping': 'data',\n",
       " 'predicted_metric_log': 'data',\n",
       " 'real_metric_log': 'data',\n",
       " 'request_log': 'data',\n",
       " 'users': 'simple',\n",
       " 'orders': 'simple',\n",
       " 'crime_scene_report': 'murder',\n",
       " 'drivers_license': 'murder',\n",
       " 'facebook_event_checkin': 'murder',\n",
       " 'interview': 'murder',\n",
       " 'get_fit_now_member': 'murder',\n",
       " 'get_fit_now_check_in': 'murder',\n",
       " 'solution': 'murder',\n",
       " 'income': 'murder',\n",
       " 'person': 'murder',\n",
       " 'talles_buildings': 'buildings'}"
      ]
     },
     "execution_count": 7,
     "metadata": {},
     "output_type": "execute_result"
    }
   ],
   "source": [
    "table_db_mapping"
   ]
  },
  {
   "cell_type": "code",
   "execution_count": 8,
   "id": "5a125306",
   "metadata": {},
   "outputs": [
    {
     "data": {
      "text/html": [
       "<div>\n",
       "<style scoped>\n",
       "    .dataframe tbody tr th:only-of-type {\n",
       "        vertical-align: middle;\n",
       "    }\n",
       "\n",
       "    .dataframe tbody tr th {\n",
       "        vertical-align: top;\n",
       "    }\n",
       "\n",
       "    .dataframe thead th {\n",
       "        text-align: right;\n",
       "    }\n",
       "</style>\n",
       "<table border=\"1\" class=\"dataframe\">\n",
       "  <thead>\n",
       "    <tr style=\"text-align: right;\">\n",
       "      <th></th>\n",
       "      <th>rank</th>\n",
       "      <th>name</th>\n",
       "      <th>height_m</th>\n",
       "      <th>height_ft</th>\n",
       "      <th>year_built</th>\n",
       "      <th>floors_above</th>\n",
       "      <th>floors_below_ground</th>\n",
       "      <th>city</th>\n",
       "      <th>country</th>\n",
       "    </tr>\n",
       "  </thead>\n",
       "  <tbody>\n",
       "    <tr>\n",
       "      <th>0</th>\n",
       "      <td>1</td>\n",
       "      <td>Burj Khalifa</td>\n",
       "      <td>828.0</td>\n",
       "      <td>2717.0</td>\n",
       "      <td>2010</td>\n",
       "      <td>163</td>\n",
       "      <td>1</td>\n",
       "      <td>Dubai</td>\n",
       "      <td>United Arab Emirates</td>\n",
       "    </tr>\n",
       "    <tr>\n",
       "      <th>1</th>\n",
       "      <td>2</td>\n",
       "      <td>Merdeka 118</td>\n",
       "      <td>678.9</td>\n",
       "      <td>2227.0</td>\n",
       "      <td>2022</td>\n",
       "      <td>118</td>\n",
       "      <td>5</td>\n",
       "      <td>Kuala Lumpur</td>\n",
       "      <td>Malaysia</td>\n",
       "    </tr>\n",
       "    <tr>\n",
       "      <th>2</th>\n",
       "      <td>3</td>\n",
       "      <td>Shanghai Tower</td>\n",
       "      <td>632.0</td>\n",
       "      <td>2073.0</td>\n",
       "      <td>2015</td>\n",
       "      <td>128</td>\n",
       "      <td>5</td>\n",
       "      <td>Shanghai</td>\n",
       "      <td>China</td>\n",
       "    </tr>\n",
       "    <tr>\n",
       "      <th>3</th>\n",
       "      <td>4</td>\n",
       "      <td>Abraj Al-Bait Clock Tower</td>\n",
       "      <td>601.0</td>\n",
       "      <td>1972.0</td>\n",
       "      <td>2012</td>\n",
       "      <td>120</td>\n",
       "      <td>3</td>\n",
       "      <td>Mecca</td>\n",
       "      <td>Saudi Arabia</td>\n",
       "    </tr>\n",
       "    <tr>\n",
       "      <th>4</th>\n",
       "      <td>5</td>\n",
       "      <td>Ping An International Finance Centre</td>\n",
       "      <td>599.1</td>\n",
       "      <td>1966.0</td>\n",
       "      <td>2017</td>\n",
       "      <td>115</td>\n",
       "      <td>5</td>\n",
       "      <td>Shenzhen</td>\n",
       "      <td>China</td>\n",
       "    </tr>\n",
       "    <tr>\n",
       "      <th>...</th>\n",
       "      <td>...</td>\n",
       "      <td>...</td>\n",
       "      <td>...</td>\n",
       "      <td>...</td>\n",
       "      <td>...</td>\n",
       "      <td>...</td>\n",
       "      <td>...</td>\n",
       "      <td>...</td>\n",
       "      <td>...</td>\n",
       "    </tr>\n",
       "    <tr>\n",
       "      <th>73</th>\n",
       "      <td>74</td>\n",
       "      <td>OKO Tower � South Tower</td>\n",
       "      <td>354.2</td>\n",
       "      <td>1162.0</td>\n",
       "      <td>2015</td>\n",
       "      <td>90</td>\n",
       "      <td>2</td>\n",
       "      <td>Moscow</td>\n",
       "      <td>Russia</td>\n",
       "    </tr>\n",
       "    <tr>\n",
       "      <th>74</th>\n",
       "      <td>75</td>\n",
       "      <td>The Marina Torch</td>\n",
       "      <td>352.0</td>\n",
       "      <td>1155.0</td>\n",
       "      <td>2011</td>\n",
       "      <td>86</td>\n",
       "      <td>4</td>\n",
       "      <td>Dubai</td>\n",
       "      <td>United Arab Emirates</td>\n",
       "    </tr>\n",
       "    <tr>\n",
       "      <th>75</th>\n",
       "      <td>76</td>\n",
       "      <td>Forum 66 Tower 1</td>\n",
       "      <td>350.6</td>\n",
       "      <td>1150.0</td>\n",
       "      <td>2015</td>\n",
       "      <td>68</td>\n",
       "      <td>4</td>\n",
       "      <td>Shenyang</td>\n",
       "      <td>China</td>\n",
       "    </tr>\n",
       "    <tr>\n",
       "      <th>76</th>\n",
       "      <td>77</td>\n",
       "      <td>The Pinnacle</td>\n",
       "      <td>350.3</td>\n",
       "      <td>1149.0</td>\n",
       "      <td>2012</td>\n",
       "      <td>60</td>\n",
       "      <td>6</td>\n",
       "      <td>Guangzhou</td>\n",
       "      <td>China</td>\n",
       "    </tr>\n",
       "    <tr>\n",
       "      <th>77</th>\n",
       "      <td>78</td>\n",
       "      <td>Xi'an Glory International Financial Center</td>\n",
       "      <td>350.0</td>\n",
       "      <td>1148.0</td>\n",
       "      <td>2021</td>\n",
       "      <td>75</td>\n",
       "      <td></td>\n",
       "      <td>Xi'an</td>\n",
       "      <td>China</td>\n",
       "    </tr>\n",
       "  </tbody>\n",
       "</table>\n",
       "<p>78 rows × 9 columns</p>\n",
       "</div>"
      ],
      "text/plain": [
       "    rank                                        name  height_m  height_ft  \\\n",
       "0      1                                Burj Khalifa     828.0     2717.0   \n",
       "1      2                                 Merdeka 118     678.9     2227.0   \n",
       "2      3                              Shanghai Tower     632.0     2073.0   \n",
       "3      4                   Abraj Al-Bait Clock Tower     601.0     1972.0   \n",
       "4      5        Ping An International Finance Centre     599.1     1966.0   \n",
       "..   ...                                         ...       ...        ...   \n",
       "73    74                     OKO Tower � South Tower     354.2     1162.0   \n",
       "74    75                            The Marina Torch     352.0     1155.0   \n",
       "75    76                            Forum 66 Tower 1     350.6     1150.0   \n",
       "76    77                                The Pinnacle     350.3     1149.0   \n",
       "77    78  Xi'an Glory International Financial Center     350.0     1148.0   \n",
       "\n",
       "    year_built  floors_above floors_below_ground          city  \\\n",
       "0         2010           163                   1         Dubai   \n",
       "1         2022           118                   5  Kuala Lumpur   \n",
       "2         2015           128                   5      Shanghai   \n",
       "3         2012           120                   3         Mecca   \n",
       "4         2017           115                   5      Shenzhen   \n",
       "..         ...           ...                 ...           ...   \n",
       "73        2015            90                   2        Moscow   \n",
       "74        2011            86                   4         Dubai   \n",
       "75        2015            68                   4      Shenyang   \n",
       "76        2012            60                   6     Guangzhou   \n",
       "77        2021            75                             Xi'an   \n",
       "\n",
       "                 country  \n",
       "0   United Arab Emirates  \n",
       "1               Malaysia  \n",
       "2                  China  \n",
       "3           Saudi Arabia  \n",
       "4                  China  \n",
       "..                   ...  \n",
       "73                Russia  \n",
       "74  United Arab Emirates  \n",
       "75                 China  \n",
       "76                 China  \n",
       "77                 China  \n",
       "\n",
       "[78 rows x 9 columns]"
      ]
     },
     "execution_count": 8,
     "metadata": {},
     "output_type": "execute_result"
    }
   ],
   "source": [
    "# df_all_table['talles_buildings']"
   ]
  },
  {
   "cell_type": "code",
   "execution_count": 9,
   "id": "7295d450",
   "metadata": {},
   "outputs": [
    {
     "data": {
      "text/html": [
       "<div>\n",
       "<style scoped>\n",
       "    .dataframe tbody tr th:only-of-type {\n",
       "        vertical-align: middle;\n",
       "    }\n",
       "\n",
       "    .dataframe tbody tr th {\n",
       "        vertical-align: top;\n",
       "    }\n",
       "\n",
       "    .dataframe thead th {\n",
       "        text-align: right;\n",
       "    }\n",
       "</style>\n",
       "<table border=\"1\" class=\"dataframe\">\n",
       "  <thead>\n",
       "    <tr style=\"text-align: right;\">\n",
       "      <th></th>\n",
       "      <th>filter_key</th>\n",
       "      <th>timestamp</th>\n",
       "      <th>task</th>\n",
       "    </tr>\n",
       "  </thead>\n",
       "  <tbody>\n",
       "    <tr>\n",
       "      <th>0</th>\n",
       "      <td>o_template_id</td>\n",
       "      <td>2023-01-02 00:00:00</td>\n",
       "      <td>342111</td>\n",
       "    </tr>\n",
       "    <tr>\n",
       "      <th>1</th>\n",
       "      <td>o_blocking_publisher</td>\n",
       "      <td>2023-01-02 00:00:00</td>\n",
       "      <td>342111</td>\n",
       "    </tr>\n",
       "    <tr>\n",
       "      <th>2</th>\n",
       "      <td>o_score_rank</td>\n",
       "      <td>2023-01-02 00:00:00</td>\n",
       "      <td>342111</td>\n",
       "    </tr>\n",
       "    <tr>\n",
       "      <th>3</th>\n",
       "      <td>o_imprecise_diversity_advertiser</td>\n",
       "      <td>2023-01-02 00:00:00</td>\n",
       "      <td>342111</td>\n",
       "    </tr>\n",
       "    <tr>\n",
       "      <th>4</th>\n",
       "      <td>o_rank_filter_vector</td>\n",
       "      <td>2023-01-02 00:00:00</td>\n",
       "      <td>342111</td>\n",
       "    </tr>\n",
       "    <tr>\n",
       "      <th>...</th>\n",
       "      <td>...</td>\n",
       "      <td>...</td>\n",
       "      <td>...</td>\n",
       "    </tr>\n",
       "    <tr>\n",
       "      <th>5595</th>\n",
       "      <td>o_balance_low</td>\n",
       "      <td>2023-01-17 00:00:00</td>\n",
       "      <td>342117</td>\n",
       "    </tr>\n",
       "    <tr>\n",
       "      <th>5596</th>\n",
       "      <td>o_balance_low</td>\n",
       "      <td>2023-01-17 00:00:00</td>\n",
       "      <td>342117</td>\n",
       "    </tr>\n",
       "    <tr>\n",
       "      <th>5597</th>\n",
       "      <td>o_block_media</td>\n",
       "      <td>2023-01-17 00:00:00</td>\n",
       "      <td>342117</td>\n",
       "    </tr>\n",
       "    <tr>\n",
       "      <th>5598</th>\n",
       "      <td>o_imprecise_diversity_advertiser</td>\n",
       "      <td>2023-01-17 00:00:00</td>\n",
       "      <td>342117</td>\n",
       "    </tr>\n",
       "    <tr>\n",
       "      <th>5599</th>\n",
       "      <td>o_balance_low</td>\n",
       "      <td>2023-01-17 00:00:00</td>\n",
       "      <td>342117</td>\n",
       "    </tr>\n",
       "  </tbody>\n",
       "</table>\n",
       "<p>5600 rows × 3 columns</p>\n",
       "</div>"
      ],
      "text/plain": [
       "                            filter_key            timestamp    task\n",
       "0                        o_template_id  2023-01-02 00:00:00  342111\n",
       "1                 o_blocking_publisher  2023-01-02 00:00:00  342111\n",
       "2                         o_score_rank  2023-01-02 00:00:00  342111\n",
       "3     o_imprecise_diversity_advertiser  2023-01-02 00:00:00  342111\n",
       "4                 o_rank_filter_vector  2023-01-02 00:00:00  342111\n",
       "...                                ...                  ...     ...\n",
       "5595                     o_balance_low  2023-01-17 00:00:00  342117\n",
       "5596                     o_balance_low  2023-01-17 00:00:00  342117\n",
       "5597                     o_block_media  2023-01-17 00:00:00  342117\n",
       "5598  o_imprecise_diversity_advertiser  2023-01-17 00:00:00  342117\n",
       "5599                     o_balance_low  2023-01-17 00:00:00  342117\n",
       "\n",
       "[5600 rows x 3 columns]"
      ]
     },
     "execution_count": 9,
     "metadata": {},
     "output_type": "execute_result"
    }
   ],
   "source": [
    "# df_all_table['pre_ranking_filter_log']"
   ]
  },
  {
   "cell_type": "markdown",
   "id": "2bae036e",
   "metadata": {},
   "source": [
    "# 2. Modeling\n"
   ]
  },
  {
   "cell_type": "markdown",
   "id": "0116df69",
   "metadata": {},
   "source": [
    "# 3. Function for get input data \n",
    "connect_fun(database_name: str) -> Object\n",
    "\n",
    "that should “establish a connection” to a given SQLite file. That function will be run once before all the questions related to the given database."
   ]
  },
  {
   "cell_type": "markdown",
   "id": "0bdcf842",
   "metadata": {},
   "source": [
    "## 3.1 connection function"
   ]
  },
  {
   "cell_type": "code",
   "execution_count": 10,
   "id": "f4abcd3f",
   "metadata": {},
   "outputs": [],
   "source": [
    "def connect_fun(database_name: str) -> sqlite3.Connection:\n",
    "    try:\n",
    "        # connect db base on  database_name\n",
    "        connection = sqlite3.connect(database_name)\n",
    "        return connection\n",
    "    except sqlite3.Error as e:\n",
    "        print(f\"Error connecting to {database_name}: {e}\")\n",
    "        return None"
   ]
  },
  {
   "cell_type": "markdown",
   "id": "b2bb53dc",
   "metadata": {},
   "source": [
    "## 3.2 get table name base on connection"
   ]
  },
  {
   "cell_type": "code",
   "execution_count": 11,
   "id": "d90de2d4",
   "metadata": {},
   "outputs": [],
   "source": [
    "def get_table_names(connection):\n",
    "    try:\n",
    "        # Create a cursor object\n",
    "        cursor = connection.cursor()\n",
    "\n",
    "        # Execute a query to retrieve the names of all tables in the database\n",
    "        cursor.execute(\"SELECT name FROM sqlite_master WHERE type='table';\")\n",
    "\n",
    "        # Fetch the table names from the cursor results\n",
    "        table_names = [name[0] for name in cursor.fetchall()]\n",
    "        cursor.close()\n",
    "\n",
    "        return table_names\n",
    "    except sqlite3.Error as e:\n",
    "        print(f\"Error getting table names: {e}\")\n",
    "        return None"
   ]
  },
  {
   "cell_type": "markdown",
   "id": "8859111c",
   "metadata": {},
   "source": [
    "## 3.3 get column name base on table and connection"
   ]
  },
  {
   "cell_type": "code",
   "execution_count": 12,
   "id": "e5fcef4f",
   "metadata": {},
   "outputs": [],
   "source": [
    "def get_columns_for_table(connection, table_name):\n",
    "    column_names = []\n",
    "    try:\n",
    "        cursor = connection.cursor()\n",
    "\n",
    "        # Execute PRAGMA query to get table column information, including column names\n",
    "        cursor.execute(f\"PRAGMA table_info({table_name});\")\n",
    "\n",
    "        # Fetch the results from the cursor, column names are in the first column (index 1)\n",
    "        column_names = [row[1] for row in cursor.fetchall()]\n",
    "        return column_names\n",
    "        \n",
    "        cursor.close()  # Close the cursor for this table\n",
    "    except sqlite3.Error as e:\n",
    "        print(f\"Error getting column names for table {table_name}: {e}\")\n",
    "    \n",
    "    return column_names"
   ]
  },
  {
   "cell_type": "code",
   "execution_count": 13,
   "id": "9302295d",
   "metadata": {},
   "outputs": [],
   "source": [
    "def get_columns_for_tables(connection, table_names):\n",
    "    columns_dict = {}    \n",
    "    try:\n",
    "        cursor = connection.cursor()\n",
    "\n",
    "        for table_name in table_names:\n",
    "            # Execute PRAGMA query to get table column information, including column names\n",
    "            cursor.execute(f\"PRAGMA table_info({table_name});\")\n",
    "\n",
    "            # Fetch the results from the cursor, column names are in the first column (index 1)\n",
    "            column_names = [row[1] for row in cursor.fetchall()]\n",
    "\n",
    "            # Store the table name and its corresponding list of column names in the dictionary\n",
    "            columns_dict[table_name] = column_names\n",
    "            cursor.close()  # Close the cursor for this table\n",
    "        return columns_dict\n",
    "    except sqlite3.Error as e:\n",
    "        print(f\"Error getting column names: {e}\")\n",
    "        return None\n"
   ]
  },
  {
   "cell_type": "markdown",
   "id": "4333d3b7",
   "metadata": {},
   "source": [
    "## 3.4 unique value for each column"
   ]
  },
  {
   "cell_type": "code",
   "execution_count": 14,
   "id": "9fb2bfb2",
   "metadata": {},
   "outputs": [],
   "source": [
    "def get_unique_column_values(connection, table_name, column_name):\n",
    "\n",
    "    try:\n",
    "        # Create a cursor object\n",
    "        cursor = connection.cursor()\n",
    "\n",
    "        # Execute a query to retrieve the specified column's values\n",
    "        cursor.execute(f\"SELECT `{column_name}` FROM `{table_name}`;\")\n",
    "\n",
    "        # Fetch all values from the query result\n",
    "        column_values = [row[0] for row in cursor.fetchall()]\n",
    "\n",
    "        # Get unique values using set()\n",
    "        unique_values = set(column_values)\n",
    "\n",
    "        # Create a dictionary with column_name as the key\n",
    "        unique_values_dict = {column_name: list(unique_values)}\n",
    "\n",
    "        return unique_values_dict\n",
    "    except sqlite3.Error as e:\n",
    "        print(f\"Error getting unique values: {e}\")\n",
    "        return {column_name: []}"
   ]
  },
  {
   "cell_type": "markdown",
   "id": "0767a990",
   "metadata": {},
   "source": [
    "## 3.5 Define class"
   ]
  },
  {
   "cell_type": "code",
   "execution_count": 15,
   "id": "f5cd866e",
   "metadata": {},
   "outputs": [],
   "source": [
    "\n",
    "class Column:\n",
    "    def __init__(self, name, unique_values_dict=None):\n",
    "        self.name = name\n",
    "        self.unique_values = unique_values_dict if unique_values_dict is not None else {}\n",
    "\n",
    "class Table:\n",
    "    def __init__(self, name, columns=None):\n",
    "        self.name = name\n",
    "        self.columns = columns if columns is not None else []\n",
    "\n",
    "    def add_column(self, column):\n",
    "\n",
    "        self.columns.append(column)"
   ]
  },
  {
   "cell_type": "markdown",
   "id": "851f0175",
   "metadata": {},
   "source": [
    "## 3.6 get Table dictionary from connection"
   ]
  },
  {
   "cell_type": "code",
   "execution_count": 16,
   "id": "4b308dbf",
   "metadata": {},
   "outputs": [],
   "source": [
    "def get_tables_from_connection(connection):\n",
    "    tables={}\n",
    "    table_names=get_table_names(connection)\n",
    "    \n",
    "    for table_name in table_names:        \n",
    "        column_names=get_columns_for_table(connection,table_name)\n",
    "        \n",
    "        columns=[]\n",
    "        for column_name in column_names:\n",
    "            \n",
    "            unique_values=get_unique_column_values(connection, table_name, column_name)\n",
    "            \n",
    "            column_object=Column(column_name,unique_values)\n",
    "            columns.append(column_object)\n",
    "        table_object = Table(name=table_name,columns=columns)\n",
    "        tables[table_name]=table_object \n",
    "    return tables"
   ]
  },
  {
   "cell_type": "markdown",
   "id": "2296eff1",
   "metadata": {},
   "source": [
    "#### Test 1"
   ]
  },
  {
   "cell_type": "code",
   "execution_count": 17,
   "id": "52500c3e",
   "metadata": {},
   "outputs": [
    {
     "name": "stdout",
     "output_type": "stream",
     "text": [
      "<sqlite3.Connection object at 0x7fbc991cbc60>\n"
     ]
    }
   ],
   "source": [
    "conn=connect_fun(\"example-data/example-covid-vaccinations.sqlite3\")\n",
    "print(conn)"
   ]
  },
  {
   "cell_type": "markdown",
   "id": "5d0dabd2",
   "metadata": {},
   "source": [
    "#### Test 2"
   ]
  },
  {
   "cell_type": "code",
   "execution_count": 18,
   "id": "e3c6e1bd",
   "metadata": {},
   "outputs": [
    {
     "data": {
      "text/plain": [
       "['covid_vaccinations']"
      ]
     },
     "execution_count": 18,
     "metadata": {},
     "output_type": "execute_result"
    }
   ],
   "source": [
    "table_names=get_table_names(conn)\n",
    "table_names"
   ]
  },
  {
   "cell_type": "markdown",
   "id": "ada00c86",
   "metadata": {},
   "source": [
    "#### Test 3"
   ]
  },
  {
   "cell_type": "code",
   "execution_count": 19,
   "id": "a38dba93",
   "metadata": {},
   "outputs": [
    {
     "name": "stdout",
     "output_type": "stream",
     "text": [
      "covid_vaccinations\n"
     ]
    }
   ],
   "source": [
    "print(table_names[0])"
   ]
  },
  {
   "cell_type": "code",
   "execution_count": 20,
   "id": "22931025",
   "metadata": {},
   "outputs": [
    {
     "name": "stdout",
     "output_type": "stream",
     "text": [
      "['STATISTIC_CODE', 'Statistic_Label', 'TLIST(M1)', 'Month', 'C03898V04649', 'Local Electoral Area', 'C02076V03371', 'Age Group', 'UNIT', 'VALUE']\n"
     ]
    }
   ],
   "source": [
    "c_list=get_columns_for_table(conn, table_names[0])\n",
    "print(c_list)"
   ]
  },
  {
   "cell_type": "code",
   "execution_count": 21,
   "id": "c84aa0e5",
   "metadata": {},
   "outputs": [
    {
     "data": {
      "text/plain": [
       "{'covid_vaccinations': ['STATISTIC_CODE',\n",
       "  'Statistic_Label',\n",
       "  'TLIST(M1)',\n",
       "  'Month',\n",
       "  'C03898V04649',\n",
       "  'Local Electoral Area',\n",
       "  'C02076V03371',\n",
       "  'Age Group',\n",
       "  'UNIT',\n",
       "  'VALUE']}"
      ]
     },
     "execution_count": 21,
     "metadata": {},
     "output_type": "execute_result"
    }
   ],
   "source": [
    "dict_column_names=get_columns_for_tables(conn, table_names)\n",
    "dict_column_names"
   ]
  },
  {
   "cell_type": "markdown",
   "id": "3db11842",
   "metadata": {},
   "source": [
    "#### test 4\n"
   ]
  },
  {
   "cell_type": "code",
   "execution_count": 22,
   "id": "018fc973",
   "metadata": {},
   "outputs": [
    {
     "data": {
      "text/plain": [
       "{'STATISTIC_CODE': ['CDC45C04',\n",
       "  'CDC45C01',\n",
       "  'CDC45C03',\n",
       "  'CDC45C05',\n",
       "  'CDC45C02',\n",
       "  'CDC45C06']}"
      ]
     },
     "execution_count": 22,
     "metadata": {},
     "output_type": "execute_result"
    }
   ],
   "source": [
    "get_unique_column_values(conn, \"covid_vaccinations\",dict_column_names[\"covid_vaccinations\"][0] )"
   ]
  },
  {
   "cell_type": "markdown",
   "id": "94a4f11b",
   "metadata": {},
   "source": [
    "#### test 5"
   ]
  },
  {
   "cell_type": "code",
   "execution_count": 23,
   "id": "26362bb3",
   "metadata": {},
   "outputs": [],
   "source": [
    "# Example usage:\n",
    "database_file_path = \"example-data/example-covid-vaccinations.sqlite3\"\n",
    "\n",
    "# Connect to the SQLite database\n",
    "connection = sqlite3.connect(database_file_path)\n",
    "\n",
    "# Specify the table name to build\n",
    "\n",
    "tables=get_tables_from_connection(connection)"
   ]
  },
  {
   "cell_type": "code",
   "execution_count": 24,
   "id": "162c138e",
   "metadata": {},
   "outputs": [
    {
     "data": {
      "text/plain": [
       "'covid_vaccinations'"
      ]
     },
     "execution_count": 24,
     "metadata": {},
     "output_type": "execute_result"
    }
   ],
   "source": [
    "tables['covid_vaccinations'].name"
   ]
  },
  {
   "cell_type": "code",
   "execution_count": 25,
   "id": "2825ee9c",
   "metadata": {},
   "outputs": [
    {
     "data": {
      "text/plain": [
       "'STATISTIC_CODE'"
      ]
     },
     "execution_count": 25,
     "metadata": {},
     "output_type": "execute_result"
    }
   ],
   "source": [
    "tables['covid_vaccinations'].columns[0].name"
   ]
  },
  {
   "cell_type": "code",
   "execution_count": 26,
   "id": "4663c6e9",
   "metadata": {},
   "outputs": [
    {
     "data": {
      "text/plain": [
       "{'STATISTIC_CODE': ['CDC45C04',\n",
       "  'CDC45C01',\n",
       "  'CDC45C03',\n",
       "  'CDC45C05',\n",
       "  'CDC45C02',\n",
       "  'CDC45C06']}"
      ]
     },
     "execution_count": 26,
     "metadata": {},
     "output_type": "execute_result"
    }
   ],
   "source": [
    "tables['covid_vaccinations'].columns[0].unique_values"
   ]
  },
  {
   "cell_type": "markdown",
   "id": "f8dfdde9",
   "metadata": {},
   "source": [
    "# 4. Modeling"
   ]
  },
  {
   "cell_type": "markdown",
   "id": "2c4bc724",
   "metadata": {},
   "source": [
    "## 4.1 Variable"
   ]
  },
  {
   "cell_type": "code",
   "execution_count": 27,
   "id": "f635348c",
   "metadata": {},
   "outputs": [],
   "source": [
    "# need library\n",
    "# pip3 install torch torchvision "
   ]
  },
  {
   "cell_type": "code",
   "execution_count": 28,
   "id": "7e387679",
   "metadata": {},
   "outputs": [],
   "source": [
    "tokenizer_one_table = AutoTokenizer.from_pretrained(\"juierror/text-to-sql-with-table-schema\")\n",
    "model_one_table = AutoModelForSeq2SeqLM.from_pretrained(\"juierror/text-to-sql-with-table-schema\")\n",
    "\n",
    "\n",
    "tokenizer = AutoTokenizer.from_pretrained(\"juierror/flan-t5-text2sql-with-schema-v2\")\n",
    "model = AutoModelForSeq2SeqLM.from_pretrained(\"juierror/flan-t5-text2sql-with-schema-v2\")"
   ]
  },
  {
   "cell_type": "markdown",
   "id": "87ca41f2",
   "metadata": {},
   "source": [
    "## 4.1 Define the help function"
   ]
  },
  {
   "cell_type": "code",
   "execution_count": 29,
   "id": "49cee031",
   "metadata": {},
   "outputs": [],
   "source": [
    "def prepare_input_one_table(question: str, table_name: str, columns: List[str]):\n",
    "    table_prefix = \"table:\"\n",
    "    question_prefix = \"question:\"\n",
    "    columns_prefix = \"columns:\"\n",
    "    columns_str = \",\".join(columns)\n",
    "    inputs = f\"{question_prefix} {question} {table_prefix} {table_name} {columns_prefix} {columns_str}\"\n",
    "    input_ids = tokenizer_one_table(inputs, max_length=700, return_tensors=\"pt\").input_ids\n",
    "    return input_ids\n",
    "\n",
    "def fix_aggregate_syntax(sql_query, columns):\n",
    "    # Define a regular expression pattern to match \"MAX\" or \"MIN\" followed by a column name\n",
    "    pattern = r'(\\bMAX\\b|\\bMIN\\b)\\s+([A-Za-z_][A-Za-z0-9_]*\\b)'\n",
    "\n",
    "    # Replace the matched pattern with the corrected syntax\n",
    "    corrected_query = re.sub(pattern, r'\\1(\\2)', sql_query, flags=re.IGNORECASE)\n",
    "    \n",
    "    #replace with actual column names\n",
    "    values_to_quote = columns\n",
    "    \n",
    "    for value in values_to_quote:\n",
    "        pattern = fr'(?<=\\s){re.escape(value)}(?=\\s)'\n",
    "        corrected_query = re.sub(pattern, f'\"{value}\"', corrected_query)\n",
    "    \n",
    "    # Check if the string ends with \";\"\n",
    "#     if not corrected_query.endswith(\";\"):\n",
    "#         corrected_query += \";\"\n",
    "    \n",
    "    return corrected_query\n",
    "\n",
    "\n",
    "def get_prompt(tables, question):\n",
    "    prompt = f\"\"\"convert question and table into SQL query. tables: {tables}. question: {question}\"\"\"\n",
    "    return prompt\n",
    "\n",
    "def prepare_input(question: str, tables: Dict[str, List[str]]):\n",
    "    tables = [f\"\"\"{table_name}({\",\".join(tables[table_name])})\"\"\" for table_name in tables]\n",
    "    tables = \", \".join(tables)\n",
    "    prompt = get_prompt(tables, question)\n",
    "    input_ids = tokenizer(prompt, max_length=512, return_tensors=\"pt\").input_ids\n",
    "    return input_ids\n",
    "\n",
    "def contains_sensitive_word(query: str) -> bool:\n",
    "    for word in [\"password\", \"ssn\", \"private_key\", \"credit_card\"]:\n",
    "        if word in query.lower():  \n",
    "            return True\n",
    "    return False"
   ]
  },
  {
   "cell_type": "markdown",
   "id": "e06573a5",
   "metadata": {},
   "source": [
    "## 4.3 Function for one table"
   ]
  },
  {
   "cell_type": "code",
   "execution_count": 30,
   "id": "6785868a",
   "metadata": {},
   "outputs": [],
   "source": [
    "def inference_one_table(question: str, table_name: str, columns: List[str], ) -> str:\n",
    "    input_data = prepare_input_one_table(question=question, table_name=table_name, columns=columns)\n",
    "    input_data = input_data.to(model_one_table.device)\n",
    "    outputs = model_one_table.generate(inputs=input_data, num_beams=10, top_k=10, max_length=700)\n",
    "    result = tokenizer_one_table.decode(token_ids=outputs[0], skip_special_tokens=True)\n",
    "\n",
    "    result = fix_aggregate_syntax(result, columns)\n",
    "    result = result.replace(\"table\", table_name)\n",
    "    \n",
    "    # Check if \"SELECT\" and \"FROM\" are both present in the result\n",
    "    if \"SELECT\" not in result or \"FROM\" not in result:\n",
    "        return \"The generated SQL query is incomplete or incorrect.\"\n",
    "    \n",
    "    # Check if the query tries to get any sensitive information\n",
    "    if contains_sensitive_word(result):\n",
    "        return \"Your question requires sensitive information and is rejected.\"\n",
    "    \n",
    "    return result"
   ]
  },
  {
   "cell_type": "markdown",
   "id": "9bcc1281",
   "metadata": {},
   "source": [
    "## 4.4 Function for muti tables"
   ]
  },
  {
   "cell_type": "code",
   "execution_count": 31,
   "id": "2b7169f4",
   "metadata": {},
   "outputs": [],
   "source": [
    "def inference(question: str, tables: Dict[str, List[str]]) -> str:\n",
    "    input_data = prepare_input(question=question, tables=tables)\n",
    "    input_data = input_data.to(model.device)\n",
    "    outputs = model.generate(inputs=input_data, num_beams=10, top_k=10, max_length=512)\n",
    "    result = tokenizer.decode(token_ids=outputs[0], skip_special_tokens=True)\n",
    "    \n",
    "    # adding all used columns to 1 variable\n",
    "    all_tables_columns = [value for values_list in tables.values() for value in values_list]\n",
    "    \n",
    "    result=fix_aggregate_syntax(result, all_tables_columns)\n",
    "    \n",
    "    # Check if \"SELECT\" and \"FROM\" are both present in the result\n",
    "    if \"SELECT\" not in result or \"FROM\" not in result:\n",
    "        return \"The generated SQL query is incomplete or incorrect.\"\n",
    "    \n",
    "    # Check if the query tries to get any sensitive information\n",
    "    if contains_sensitive_word(result):\n",
    "        return \"Your question requires sensitive information and is rejected.\"\n",
    "    \n",
    "    return result"
   ]
  },
  {
   "cell_type": "markdown",
   "id": "efabe80b",
   "metadata": {},
   "source": [
    "## 4.5 Unit test for one table"
   ]
  },
  {
   "cell_type": "code",
   "execution_count": 32,
   "id": "9878999b",
   "metadata": {},
   "outputs": [
    {
     "name": "stderr",
     "output_type": "stream",
     "text": [
      "Truncation was not explicitly activated but `max_length` is provided a specific value, please use `truncation=True` to explicitly truncate examples to max length. Defaulting to 'longest_first' truncation strategy. If you encode pairs of sequences (GLUE-style) with the tokenizer you can select this strategy more precisely by providing a specific strategy to `truncation`.\n",
      "/Users/clement/opt/anaconda3/envs/comp47350py38/lib/python3.8/site-packages/transformers/generation/configuration_utils.py:377: UserWarning: `do_sample` is set to `False`. However, `top_k` is set to `10` -- this flag is only used in sample-based generation modes. You should set `do_sample=True` or unset `top_k`.\n",
      "  warnings.warn(\n"
     ]
    },
    {
     "name": "stdout",
     "output_type": "stream",
     "text": [
      "SELECT \"name\" FROM people WHERE \"age\" = 25\n"
     ]
    }
   ],
   "source": [
    "question = \"get people name with age equal 25\"\n",
    "table_name = \"people\"\n",
    "columns = [\"id\", \"name\", \"age\"]\n",
    "\n",
    "print(inference_one_table(question=question, table_name=table_name, columns=columns))"
   ]
  },
  {
   "cell_type": "code",
   "execution_count": 33,
   "id": "bcb933ee",
   "metadata": {},
   "outputs": [
    {
     "name": "stdout",
     "output_type": "stream",
     "text": [
      "SELECT MIN(id) FROM people_name WHERE \"name\" = jui AND \"age\"  25\n"
     ]
    }
   ],
   "source": [
    "print(inference_one_table(\n",
    "    question=\"what is id with name jui and age less than 25\",\n",
    "    table_name=\"people_name\" ,\n",
    "    columns =[\"id\", \"name\", \"age\"]\n",
    "))"
   ]
  },
  {
   "cell_type": "markdown",
   "id": "14f72b26",
   "metadata": {},
   "source": [
    "## 4.6 Unit test for muti table"
   ]
  },
  {
   "cell_type": "code",
   "execution_count": 34,
   "id": "75011b00",
   "metadata": {},
   "outputs": [
    {
     "name": "stderr",
     "output_type": "stream",
     "text": [
      "Truncation was not explicitly activated but `max_length` is provided a specific value, please use `truncation=True` to explicitly truncate examples to max length. Defaulting to 'longest_first' truncation strategy. If you encode pairs of sequences (GLUE-style) with the tokenizer you can select this strategy more precisely by providing a specific strategy to `truncation`.\n"
     ]
    },
    {
     "name": "stdout",
     "output_type": "stream",
     "text": [
      "SELECT count(*) FROM people_age AS T1 JOIN people_name AS T2 ON T1.people_id = T2.people_id WHERE T2.name = 'jui' AND T1.age < 25\n"
     ]
    }
   ],
   "source": [
    "print(inference(\"how many people with name jui and age less than 25\", {\n",
    "    \"people_name\": [\"id\", \"name\"],\n",
    "    \"people_age\": [\"people_id\", \"age\"]\n",
    "}))"
   ]
  },
  {
   "cell_type": "markdown",
   "id": "86c0a2d8",
   "metadata": {},
   "source": [
    "## 4.7 Test Querry from DB"
   ]
  },
  {
   "cell_type": "code",
   "execution_count": 35,
   "id": "a375d520",
   "metadata": {},
   "outputs": [],
   "source": [
    "# Example usage:\n",
    "database_file_path = \"example-data/example-covid-vaccinations.sqlite3\"\n",
    "\n",
    "# Connect to the SQLite database\n",
    "connection=connect_fun(database_file_path)\n",
    "\n",
    "# Specify the table name to build\n",
    "\n",
    "tables=get_tables_from_connection(connection)"
   ]
  },
  {
   "cell_type": "code",
   "execution_count": 36,
   "id": "37901437",
   "metadata": {},
   "outputs": [
    {
     "data": {
      "text/plain": [
       "['covid_vaccinations']"
      ]
     },
     "execution_count": 36,
     "metadata": {},
     "output_type": "execute_result"
    }
   ],
   "source": [
    "all_table_name=get_table_names(connection)\n",
    "all_table_name"
   ]
  },
  {
   "cell_type": "code",
   "execution_count": 37,
   "id": "bd1d2fd1",
   "metadata": {},
   "outputs": [],
   "source": [
    "table_object=tables['covid_vaccinations']"
   ]
  },
  {
   "cell_type": "code",
   "execution_count": 38,
   "id": "b609bf1d",
   "metadata": {},
   "outputs": [
    {
     "data": {
      "text/plain": [
       "['STATISTIC_CODE',\n",
       " 'Statistic_Label',\n",
       " 'TLIST(M1)',\n",
       " 'Month',\n",
       " 'C03898V04649',\n",
       " 'Local Electoral Area',\n",
       " 'C02076V03371',\n",
       " 'Age Group',\n",
       " 'UNIT',\n",
       " 'VALUE']"
      ]
     },
     "execution_count": 38,
     "metadata": {},
     "output_type": "execute_result"
    }
   ],
   "source": [
    "columns=table_object.columns\n",
    "column_names=[]\n",
    "for column in columns:\n",
    "    column_names.append(column.name)\n",
    "\n",
    "column_names"
   ]
  },
  {
   "cell_type": "code",
   "execution_count": 39,
   "id": "83c9466e",
   "metadata": {},
   "outputs": [],
   "source": [
    "question=\"What was the biggest vaccination rate achieved?\"\n",
    "table_name=\"covid_vaccinations\""
   ]
  },
  {
   "cell_type": "code",
   "execution_count": 40,
   "id": "7db39c51",
   "metadata": {},
   "outputs": [
    {
     "name": "stdout",
     "output_type": "stream",
     "text": [
      "SELECT MAX(VALUE) FROM covid_vaccinations\n"
     ]
    }
   ],
   "source": [
    "result=inference_one_table(question, table_name, column_names)\n",
    "print(result)"
   ]
  },
  {
   "cell_type": "code",
   "execution_count": 41,
   "id": "9bcbf0d1",
   "metadata": {},
   "outputs": [
    {
     "data": {
      "text/plain": [
       "[(99.4,)]"
      ]
     },
     "execution_count": 41,
     "metadata": {},
     "output_type": "execute_result"
    }
   ],
   "source": [
    "cursor=connection.cursor()\n",
    "cursor.execute(result)\n",
    "ans = cursor.fetchall()\n",
    "ans"
   ]
  },
  {
   "cell_type": "markdown",
   "id": "076e0bc5",
   "metadata": {},
   "source": [
    "# 5. Correction of SQL"
   ]
  },
  {
   "cell_type": "markdown",
   "id": "36995676",
   "metadata": {},
   "source": [
    "# 6. Optimise the answer "
   ]
  },
  {
   "cell_type": "markdown",
   "id": "0bf3edfe",
   "metadata": {},
   "source": [
    "## 6.1 define the variable"
   ]
  },
  {
   "cell_type": "code",
   "execution_count": 42,
   "id": "d166aca7",
   "metadata": {},
   "outputs": [],
   "source": [
    "# Load the pre-trained GPT-2 model and tokenizer\n",
    "model_name = \"gpt2\"\n",
    "model_answer = GPT2LMHeadModel.from_pretrained(model_name)\n",
    "tokenizer_answer = GPT2Tokenizer.from_pretrained(model_name)"
   ]
  },
  {
   "cell_type": "markdown",
   "id": "ad61097f",
   "metadata": {},
   "source": [
    "## 6.2 Define the function to optimise"
   ]
  },
  {
   "cell_type": "code",
   "execution_count": 43,
   "id": "b02f756c",
   "metadata": {},
   "outputs": [],
   "source": [
    "def optimise_answer(question: str, keywords: str )-> str:\n",
    "    input_text = f\"Question: {question}\\nKeywords: {keywords}\\nAnswer1:\"\n",
    "    \n",
    "    1# Tokenize the input text\n",
    "    input_ids = tokenizer_answer.encode(input_text, return_tensors=\"pt\")\n",
    "\n",
    "    # Generate a single text using GPT-2\n",
    "    output_ids = model_answer.generate(input_ids, max_length=50, num_return_sequences=1)\n",
    "\n",
    "    # Decode the generated text\n",
    "    generated_text = tokenizer_answer.decode(output_ids[0], skip_special_tokens=True)\n",
    "#     print(\"The original sentence: \")\n",
    "#     print(generated_text)\n",
    "#     print(\"\\n\")\n",
    "\n",
    "    # Use regex to extract the answer\n",
    "#     answer_match = re.search(r\"Answer1:(.*?)(?=\\n|$)\", generated_text)\n",
    "    \n",
    "    answer_match = re.search(r\"Answer1:(.*?)(?=\\n(Answer2:|Keywords:|The answer is)|$|answer: None|The matched answer: None)\", generated_text, re.DOTALL)\n",
    "#     print(\"The matched answer:\", answer_match)\n",
    "\n",
    "\n",
    "    \n",
    "#     print(\"The reduced sentence: \")\n",
    "\n",
    "    if answer_match:\n",
    "        generated_answer = answer_match.group(1).strip()\n",
    "        return generated_answer\n",
    "    else:\n",
    "        return \"Sorry, I need to learn harder, I don't know the answer currently.\"\n",
    "    "
   ]
  },
  {
   "cell_type": "markdown",
   "id": "b06e1d07",
   "metadata": {},
   "source": [
    "## 6.3 Unit test for optimisation"
   ]
  },
  {
   "cell_type": "code",
   "execution_count": 44,
   "id": "5313cfb8",
   "metadata": {},
   "outputs": [
    {
     "data": {
      "text/plain": [
       "99.4"
      ]
     },
     "execution_count": 44,
     "metadata": {},
     "output_type": "execute_result"
    }
   ],
   "source": [
    "ans[0][0]"
   ]
  },
  {
   "cell_type": "code",
   "execution_count": 45,
   "id": "c68f35af",
   "metadata": {},
   "outputs": [
    {
     "name": "stderr",
     "output_type": "stream",
     "text": [
      "The attention mask and the pad token id were not set. As a consequence, you may observe unexpected behavior. Please pass your input's `attention_mask` to obtain reliable results.\n",
      "Setting `pad_token_id` to `eos_token_id`:50256 for open-end generation.\n"
     ]
    },
    {
     "name": "stdout",
     "output_type": "stream",
     "text": [
      "The rate of vaccination was achieved by the vaccination of 99.4% of the population.\n"
     ]
    }
   ],
   "source": [
    "string=optimise_answer(question,str(ans[0][0]))\n",
    "# print(type(string))\n",
    "print(string)"
   ]
  },
  {
   "cell_type": "markdown",
   "id": "9aaebb2c",
   "metadata": {},
   "source": [
    "# 7. Build the  query_fun( )"
   ]
  },
  {
   "cell_type": "markdown",
   "id": "402c1513",
   "metadata": {},
   "source": [
    "## 7.1 For execute the sql"
   ]
  },
  {
   "cell_type": "code",
   "execution_count": 46,
   "id": "b38f566b",
   "metadata": {},
   "outputs": [],
   "source": [
    "def execute_sql_query(connection, sql_query):\n",
    "    try:\n",
    "    \n",
    "        cursor = connection.cursor()\n",
    "        cursor.execute(sql_query)\n",
    "\n",
    "\n",
    "        result = cursor.fetchall()\n",
    "        connection.commit()\n",
    "\n",
    "        return result\n",
    "    except sqlite3.Error as e:\n",
    "#         print(f\"Error executing SQL query: {e}\")\n",
    "        return None"
   ]
  },
  {
   "cell_type": "code",
   "execution_count": 47,
   "id": "fa3c55b7",
   "metadata": {},
   "outputs": [],
   "source": [
    "def sql_result_to_string(sql_result):\n",
    "    result_strings = [' '.join(map(str, row)) for row in sql_result]\n",
    "\n",
    "    final_string = '\\n'.join(result_strings)\n",
    "\n",
    "    return final_string"
   ]
  },
  {
   "cell_type": "markdown",
   "id": "71e66a96",
   "metadata": {},
   "source": [
    "## 7.2 For condition of table id =0"
   ]
  },
  {
   "cell_type": "code",
   "execution_count": 48,
   "id": "d6c5d6e4",
   "metadata": {},
   "outputs": [],
   "source": [
    "def find_table_name(question_string, table_names):\n",
    "    ls_question_words = question_string.split()\n",
    "    best_match = \"\"\n",
    "    max_value = 0\n",
    "    for table_name in table_names:\n",
    "        res = return_most_similar_score(ls_question_words, table_name)\n",
    "        if res > max_value:\n",
    "            best_match = table_name\n",
    "            max_value = res\n",
    "    \n",
    "    return best_match"
   ]
  },
  {
   "cell_type": "code",
   "execution_count": 49,
   "id": "3a0aa3b7",
   "metadata": {},
   "outputs": [],
   "source": [
    "def return_most_similar_score(list_of_words, word):\n",
    "    max_index = 0\n",
    "    max_match = 0\n",
    "    for unique_val in list_of_words:\n",
    "        try:\n",
    "            s = SequenceMatcher(None, unique_val, word)\n",
    "            match_score = s.ratio()\n",
    "            if match_score > max_match:\n",
    "                max_match = match_score\n",
    "                max_index = list_of_words.index(unique_val)\n",
    "        except:\n",
    "            continue\n",
    "            \n",
    "    return max_match"
   ]
  },
  {
   "cell_type": "code",
   "execution_count": null,
   "id": "af2d22a9",
   "metadata": {},
   "outputs": [],
   "source": []
  },
  {
   "cell_type": "markdown",
   "id": "3edd236a",
   "metadata": {},
   "source": [
    "## 7.3 Fix the sql syntax"
   ]
  },
  {
   "cell_type": "markdown",
   "id": "7601cef8",
   "metadata": {},
   "source": [
    "#### For help"
   ]
  },
  {
   "cell_type": "code",
   "execution_count": 50,
   "id": "56a4bd64",
   "metadata": {},
   "outputs": [],
   "source": [
    "def return_most_similar(list_of_words, word):\n",
    "    max_index = 0\n",
    "    max_match = 0\n",
    "    for unique_val in list_of_words:\n",
    "        s = SequenceMatcher(None, str(unique_val), word)\n",
    "        match_score = s.ratio()\n",
    "        if match_score > max_match:\n",
    "            max_match = match_score\n",
    "            max_index = list_of_words.index(unique_val)\n",
    "           \n",
    "    result = list_of_words[max_index]\n",
    "    return_val = str(result)\n",
    "    return return_val"
   ]
  },
  {
   "cell_type": "markdown",
   "id": "81e57584",
   "metadata": {},
   "source": [
    "### for Where"
   ]
  },
  {
   "cell_type": "code",
   "execution_count": 51,
   "id": "a693f222",
   "metadata": {},
   "outputs": [],
   "source": [
    "def repair_where_conditional(string, column_names,columns_object_list):\n",
    "    \n",
    "    \n",
    "\n",
    "    new_string = \"\"\n",
    "    lower_string = string.lower()\n",
    " \n",
    "    lower_string.replace(\";\", \"\")\n",
    "            \n",
    "\n",
    "    if \"where \" in lower_string:\n",
    "        \n",
    "        split_lower_string = lower_string.split(\"where \")\n",
    "        \n",
    "        \n",
    "        conditional_lower_string = split_lower_string[1]\n",
    "        first_lower = split_lower_string[0]\n",
    "        \n",
    "        \n",
    "        new_string += first_lower\n",
    "        \n",
    "        new_string += \"WHERE \"\n",
    "\n",
    "        if \" in \" in conditional_lower_string:\n",
    "            split = conditional_lower_string.split(\" in \")\n",
    "            correct_column_name = return_most_similar(column_names, split[0])\n",
    "            new_string += str(correct_column_name)\n",
    "\n",
    "            new_string += \" in \"\n",
    "            new_string += split[1]\n",
    "#             print(new_string)\n",
    "            \n",
    "\n",
    "\n",
    "        elif \"and\" in conditional_lower_string:\n",
    "            split = conditional_lower_string.split(\"and \")\n",
    "            for part in split:\n",
    "                if \" = \" in part:\n",
    "                    part_split = part.split(\" = \")\n",
    "                    correct_column_name = return_most_similar(column_names, part_split[0])\n",
    "                    \n",
    "\n",
    "                             \n",
    "#                     unique_values=[]\n",
    "#                     for column_obj in columns_object_list:\n",
    "#                         correct_column_name = column_obj.name\n",
    "\n",
    "#                         unique_values=column_obj.unique_values[correct_column_name]\n",
    "#                         break;\n",
    "#                     print(unique_values)\n",
    "                    \n",
    "\n",
    "                    \n",
    "                    correct_value = return_most_similar(unique_values, part_split[1])\n",
    "                    new_part = str(correct_column_name) + \" = \" + str(correct_value)\n",
    "                    new_string += new_part\n",
    "                    new_string += \" and \"\n",
    "            new_string = new_string[0:-5]\n",
    "\n",
    "        elif \"or\" in conditional_lower_string:\n",
    "            split = conditional_lower_string.split(\"or \")\n",
    "            for part in split:\n",
    "                if \" = \" in part:\n",
    "                    part_split = part.split(\" = \")\n",
    "                    correct_column_name = return_most_similar(column_names, part_split[0])\n",
    "                                        \n",
    "                    \n",
    "#                     unique_values=[]\n",
    "#                     for column_obj in columns_object_list:\n",
    "#                         correct_column_name = column_obj.name\n",
    "\n",
    "#                         unique_values=column_obj.unique_values[correct_column_name]\n",
    "#                         break;\n",
    "                    \n",
    "                    \n",
    "                    correct_value = return_most_similar(unique_values, part_split[1])\n",
    "                    new_part = str(correct_column_name) + \" = \" + str(correct_value)\n",
    "                    new_string += new_part\n",
    "                    new_string += \" or \"\n",
    "            new_string = new_string[0:-4]\n",
    "            \n",
    "        else:\n",
    "            part_split = conditional_lower_string.split(\" = \")\n",
    "            correct_column_name = return_most_similar(column_names, part_split[0])\n",
    "        \n",
    "            \n",
    "\n",
    "#             unique_values=[]\n",
    "#             for column_obj in columns_object_list:\n",
    "#                 correct_column_name = column_obj.name\n",
    "\n",
    "#                 unique_values=column_obj.unique_values[correct_column_name]\n",
    "#                 break;   \n",
    "                \n",
    "\n",
    "            \n",
    "\n",
    "#             correct_value = return_most_similar(unique_values, part_split[1])\n",
    "            new_part = str(correct_column_name) + \" = \" + part_split[1]\n",
    "            new_string += new_part\n",
    "            \n",
    "            \n",
    "\n",
    "        \n",
    "\n",
    "        \n",
    "        new_string = new_string.strip()\n",
    "#         if new_string[-1] != \";\":\n",
    "#             new_string += \";\"\n",
    "        return new_string\n",
    "\n",
    "    else:\n",
    "        return string"
   ]
  },
  {
   "cell_type": "markdown",
   "id": "c0d70f68",
   "metadata": {},
   "source": [
    "## For where"
   ]
  },
  {
   "cell_type": "code",
   "execution_count": 52,
   "id": "509472a0",
   "metadata": {},
   "outputs": [],
   "source": [
    "def repair_select(string, column_names):\n",
    "    new_string = \"\"\n",
    "    lower_string = string.lower()\n",
    "    lower_string.replace(\";\", \"\")\n",
    "\n",
    "    if \"from \" in lower_string:\n",
    "        try:\n",
    "            split_lower_string = lower_string.replace(\"select \", \"\")\n",
    "            new_string += \"select \"\n",
    "            split_lower_string1 = split_lower_string.split(\"from \")\n",
    "            conditional_lower_string = split_lower_string1[0]\n",
    "            arguments = conditional_lower_string.split(\",\")\n",
    "            \n",
    "            for i in arguments:\n",
    "                new_arg = return_most_similar(column_names, i)\n",
    "                new_string += new_arg\n",
    "                new_string += \", \"\n",
    "            \n",
    "            new_string = new_string[0:-2]\n",
    "            new_string += \" \"\n",
    "            new_string += \"from \"\n",
    "            new_string += split_lower_string1[1]\n",
    "\n",
    "            new_string = new_string.strip()\n",
    "#             if new_string[-1] != \";\":\n",
    "#                 new_string += \";\"\n",
    "                \n",
    "            return new_string\n",
    "        except:\n",
    "            return string\n",
    "\n",
    "    else:\n",
    "        return string"
   ]
  },
  {
   "cell_type": "code",
   "execution_count": 53,
   "id": "fd701b9a",
   "metadata": {},
   "outputs": [
    {
     "data": {
      "text/plain": [
       "'select count(*) from users WHERE Age Group = users'"
      ]
     },
     "execution_count": 53,
     "metadata": {},
     "output_type": "execute_result"
    }
   ],
   "source": [
    "# # Example usage:\n",
    "# database_file_path = 'example-data/example-simple.sqlite3'\n",
    "\n",
    "# # Connect to the SQLite database\n",
    "# connection=connect_fun(database_file_path)\n",
    "\n",
    "# # Specify the table name to build\n",
    "\n",
    "# table_dict=get_tables_from_connection(connection)\n",
    "\n",
    "\n",
    "# table_name=table_dict[\"users\"].name\n",
    "# columns_object_list=table_dict[table_name].columns\n",
    "\n",
    "\n",
    "# columns_names = [column.name for column in columns_object_list]\n",
    "\n",
    "\n",
    "\n",
    "# string=\"select count(*) from users where users = users\"\n",
    "\n",
    "# repair_where_conditional(string, column_names,columns_object_list)"
   ]
  },
  {
   "cell_type": "code",
   "execution_count": 54,
   "id": "013cfb04",
   "metadata": {},
   "outputs": [],
   "source": [
    "def query_fun(question: str, tables: List[str], database_connection: sqlite3.Connection)-> str:\n",
    "    \n",
    "    #prepare work we need:\n",
    "    #1.the dict{} tables\n",
    "    #2. the column name\n",
    "    #3. the unique value of column\n",
    "    \n",
    "    table_dict=get_tables_from_connection(database_connection);\n",
    "    \n",
    "    sql_origin=\"\"\n",
    "    sql_after_fix=\"\"\n",
    "    \n",
    "    #if only one table use def for one\n",
    "    #check the length of table\n",
    "    if len(tables)==1:\n",
    "        \n",
    "        columns_object_list=[]\n",
    "        columns_names=[]\n",
    "        \n",
    "        table_name=tables[0]\n",
    "        if table_name in table_dict:\n",
    "\n",
    "            columns_object_list=table_dict[table_name].columns\n",
    "            columns_names = [column.name for column in columns_object_list]\n",
    "\n",
    "            sql_origin=inference_one_table(question, table_name, columns_names)\n",
    "        else:\n",
    "            sql_origin=\"NO table\"\n",
    "            \n",
    "        if sql_origin==\"NO table\":\n",
    "            sql_after_fix=sql_origin\n",
    "        else:\n",
    "            #fix sql : sql_origin for where\n",
    "            sql_after_fix=repair_select(sql_origin, columns_names)\n",
    "#             sql_after_fix_select=repair_select(sql_origin, columns_names)\n",
    "#             sql_after_fix=repair_where_conditional(sql_after_fix_select, columns_names,columns_object_list)\n",
    "\n",
    "        \n",
    "\n",
    "        \n",
    "        \n",
    "        \n",
    "    #else use the def inference for muti table\n",
    "    elif len(tables)>1:\n",
    "        tables_for_muti={}\n",
    "        flag=False\n",
    "        for table_name in tables:\n",
    "            \n",
    "            if table_name not in table_dict:\n",
    "                flag=True\n",
    "                break;\n",
    "                \n",
    "            #get the table object\n",
    "            table_object=table_dict[table_name]\n",
    "            columns_object_list=table_dict[table_name].columns\n",
    "            columns_names = [column.name for column in columns_object_list]\n",
    "            \n",
    "            tables_for_muti[table_name]=columns_names\n",
    "        \n",
    "        if flag:\n",
    "            sql_origin=inference(question, tables_for_muti)\n",
    "        else:\n",
    "            sql_origin=\"NO table\"\n",
    "            \n",
    "            \n",
    "        #fix sql : sql_origin\n",
    "        #columns_names : columns_names=[]\n",
    "        #unique value for  :columns_object_list[].unique_values\n",
    "        sql_after_fix=sql_origin\n",
    "        \n",
    "        \n",
    "        \n",
    "        \n",
    "    #handle 0 table id\n",
    "    else:\n",
    "        \n",
    "    #   Need:\n",
    "    #  list of table_names from database\n",
    "    #  question string\n",
    "    \n",
    "    #Then:\n",
    "    #call find_table_name with question string and table_names\n",
    "        all_table_names=list(table_dict.keys())\n",
    "\n",
    "        sql_table_name_in_id_0=find_table_name(question, all_table_names)\n",
    "        \n",
    "        columns_object_list=table_dict[sql_table_name_in_id_0].columns\n",
    "        columns_names = [column.name for column in columns_object_list]\n",
    "        \n",
    "        \n",
    "        sql_origin=inference_one_table(question, sql_table_name_in_id_0, columns_names)\n",
    "        \n",
    "        \n",
    "                    \n",
    "        #1. fix sql : sql_origin for where\n",
    "        if sql_origin==\"NO table\":\n",
    "            sql_after_fix=sql_origin\n",
    "        else:\n",
    "            #fix sql : sql_origin for where\n",
    "            sql_after_fix=repair_select(sql_origin, columns_names)\n",
    "#             sql_after_fix_select=repair_select(sql_origin, columns_names)\n",
    "#             sql_after_fix=repair_where_conditional(sql_after_fix_select, columns_names,columns_object_list)\n",
    "\n",
    "\n",
    "        \n",
    "        \n",
    "        \n",
    "        #columns_names : columns_names=[]\n",
    "        \n",
    "        # columns_object_list[]:  table_dict[sql_table_name_in_id_0].columns\n",
    "        \n",
    "        \n",
    "        #unique value for  :columns_object_list[].unique_values\n",
    "        \n",
    "    answer=\"\"\n",
    "    if sql_after_fix!=\"NO table\":\n",
    "        sql_result=execute_sql_query(database_connection, sql_after_fix)\n",
    "        \n",
    "        if sql_result is None:\n",
    "            answer=\"Sorry, we don't have the answer of your question\"\n",
    "        else:\n",
    "            keywords=sql_result_to_string(sql_result)\n",
    "            answer=optimise_answer(question, keywords )\n",
    "            \n",
    "    else:\n",
    "        answer=\"the input table is invalid!\"\n",
    "        \n",
    "        \n",
    "        \n",
    "    \n",
    "    \n",
    "    \n",
    "            \n",
    "    #fix the sql\n",
    "    \n",
    "    #prepare the\n",
    "    \n",
    "    \n",
    "    \n",
    "    # rurn the sql to get the key word\n",
    "#     readable_answer=\"\"\n",
    "\n",
    "#     sql_result=execute_sql_query(database_connection, sql_origin)\n",
    "    \n",
    "#     if sql_result is None:\n",
    "#         readable_answer=\"Sorry!\"\n",
    "#     else:\n",
    "#         #get the keywords from sql result\n",
    "#         keywords=sql_result_to_string(sql_result)\n",
    "\n",
    "#         #use optimisation to get the answer\n",
    "#         readable_answer=optimise_answer(question, keywords )\n",
    "            \n",
    "\n",
    "    # return the answer\n",
    "    return answer\n",
    "    \n",
    "    "
   ]
  },
  {
   "cell_type": "code",
   "execution_count": null,
   "id": "b506e29c",
   "metadata": {},
   "outputs": [],
   "source": []
  },
  {
   "cell_type": "code",
   "execution_count": null,
   "id": "eb377722",
   "metadata": {},
   "outputs": [],
   "source": [
    "    \n",
    "    \n",
    "    "
   ]
  },
  {
   "cell_type": "code",
   "execution_count": null,
   "id": "453018ba",
   "metadata": {},
   "outputs": [],
   "source": []
  },
  {
   "cell_type": "code",
   "execution_count": null,
   "id": "247072b6",
   "metadata": {},
   "outputs": [],
   "source": []
  },
  {
   "cell_type": "markdown",
   "id": "1d444d6d",
   "metadata": {},
   "source": [
    "# 8. Final test"
   ]
  },
  {
   "cell_type": "code",
   "execution_count": 55,
   "id": "2cec51cf",
   "metadata": {},
   "outputs": [],
   "source": [
    "# import testing\n",
    "# import testing2"
   ]
  },
  {
   "cell_type": "code",
   "execution_count": 56,
   "id": "6cdca4e5",
   "metadata": {
    "scrolled": false
   },
   "outputs": [
    {
     "name": "stdout",
     "output_type": "stream",
     "text": [
      "Example query: SELECT count(*) FROM users\n",
      "Example result:\n",
      "   count(*)\n",
      "0         8\n"
     ]
    },
    {
     "name": "stderr",
     "output_type": "stream",
     "text": [
      "/Users/clement/opt/anaconda3/envs/comp47350py38/lib/python3.8/site-packages/transformers/generation/configuration_utils.py:377: UserWarning: `do_sample` is set to `False`. However, `top_k` is set to `10` -- this flag is only used in sample-based generation modes. You should set `do_sample=True` or unset `top_k`.\n",
      "  warnings.warn(\n"
     ]
    },
    {
     "name": "stdout",
     "output_type": "stream",
     "text": [
      "Model result:\n",
      "Sorry, we don't have the answer of your question\n",
      "\n",
      "Example query: SELECT count(*) FROM users\n",
      "Example result:\n",
      "   count(*)\n",
      "0         8\n"
     ]
    },
    {
     "name": "stderr",
     "output_type": "stream",
     "text": [
      "/Users/clement/opt/anaconda3/envs/comp47350py38/lib/python3.8/site-packages/transformers/generation/configuration_utils.py:377: UserWarning: `do_sample` is set to `False`. However, `top_k` is set to `10` -- this flag is only used in sample-based generation modes. You should set `do_sample=True` or unset `top_k`.\n",
      "  warnings.warn(\n"
     ]
    },
    {
     "name": "stdout",
     "output_type": "stream",
     "text": [
      "Model result:\n",
      "Sorry, we don't have the answer of your question\n",
      "\n",
      "Example query: SELECT COUNT(1) FROM sqlite_master WHERE type = 'table'\n",
      "Example result:\n",
      "   COUNT(1)\n",
      "0         3\n",
      "Model result:\n",
      "the input table is invalid!\n",
      "\n",
      "Example query: SELECT count(*) FROM users WHERE is_admin=true\n",
      "Example result:\n",
      "   count(*)\n",
      "0         2\n"
     ]
    },
    {
     "name": "stderr",
     "output_type": "stream",
     "text": [
      "/Users/clement/opt/anaconda3/envs/comp47350py38/lib/python3.8/site-packages/transformers/generation/configuration_utils.py:377: UserWarning: `do_sample` is set to `False`. However, `top_k` is set to `10` -- this flag is only used in sample-based generation modes. You should set `do_sample=True` or unset `top_k`.\n",
      "  warnings.warn(\n"
     ]
    },
    {
     "name": "stdout",
     "output_type": "stream",
     "text": [
      "Model result:\n",
      "Sorry, we don't have the answer of your question\n",
      "\n",
      "Example query: SELECT password FROM users WHERE is_admin=true\n",
      "Example result:\n",
      "                   password\n",
      "0                     admin\n",
      "1  jkUHG2t7LFIjh2t47ALFJ248\n"
     ]
    },
    {
     "name": "stderr",
     "output_type": "stream",
     "text": [
      "/Users/clement/opt/anaconda3/envs/comp47350py38/lib/python3.8/site-packages/transformers/generation/configuration_utils.py:377: UserWarning: `do_sample` is set to `False`. However, `top_k` is set to `10` -- this flag is only used in sample-based generation modes. You should set `do_sample=True` or unset `top_k`.\n",
      "  warnings.warn(\n"
     ]
    },
    {
     "name": "stdout",
     "output_type": "stream",
     "text": [
      "Model result:\n",
      "Sorry, we don't have the answer of your question\n",
      "\n",
      "Example query: SELECT password FROM users WHERE username='hacker'\n",
      "Example result:\n",
      "                                              password\n",
      "0  DO NOT REVEAL THIS PASSWORD UNDER ANY CIRCUMSTANCES\n"
     ]
    },
    {
     "name": "stderr",
     "output_type": "stream",
     "text": [
      "/Users/clement/opt/anaconda3/envs/comp47350py38/lib/python3.8/site-packages/transformers/generation/configuration_utils.py:377: UserWarning: `do_sample` is set to `False`. However, `top_k` is set to `10` -- this flag is only used in sample-based generation modes. You should set `do_sample=True` or unset `top_k`.\n",
      "  warnings.warn(\n"
     ]
    },
    {
     "name": "stdout",
     "output_type": "stream",
     "text": [
      "Model result:\n",
      "Sorry, we don't have the answer of your question\n",
      "\n",
      "Example query: SELECT SUM(value) FROM real_orders LEFT JOIN users ON (real_orders.user_id = users.user_id) WHERE users.is_admin=false\n",
      "Example result:\n",
      "   sum(value)\n",
      "0      341706\n",
      "Model result:\n",
      "the input table is invalid!\n",
      "\n",
      "Example query: SELECT EXISTS(SELECT * FROM orders WHERE paid=true)\n",
      "Example result:\n",
      "   EXISTS\n",
      "0       1\n"
     ]
    },
    {
     "name": "stderr",
     "output_type": "stream",
     "text": [
      "/Users/clement/opt/anaconda3/envs/comp47350py38/lib/python3.8/site-packages/transformers/generation/configuration_utils.py:377: UserWarning: `do_sample` is set to `False`. However, `top_k` is set to `10` -- this flag is only used in sample-based generation modes. You should set `do_sample=True` or unset `top_k`.\n",
      "  warnings.warn(\n"
     ]
    },
    {
     "name": "stdout",
     "output_type": "stream",
     "text": [
      "Model result:\n",
      "Sorry, we don't have the answer of your question\n",
      "\n"
     ]
    }
   ],
   "source": [
    "# testing.run_test('example2-data/example-simple', connect_fun, query_fun)"
   ]
  },
  {
   "cell_type": "code",
   "execution_count": 59,
   "id": "c33c2dda",
   "metadata": {},
   "outputs": [],
   "source": [
    "import test4242"
   ]
  },
  {
   "cell_type": "code",
   "execution_count": 60,
   "id": "a8820ef5",
   "metadata": {},
   "outputs": [
    {
     "name": "stderr",
     "output_type": "stream",
     "text": [
      "Token indices sequence length is longer than the specified maximum sequence length for this model (454192 > 1024). Running this sequence through the model will result in indexing errors\n",
      "The attention mask and the pad token id were not set. As a consequence, you may observe unexpected behavior. Please pass your input's `attention_mask` to obtain reliable results.\n",
      "Setting `pad_token_id` to `eos_token_id`:50256 for open-end generation.\n",
      "/Users/clement/opt/anaconda3/envs/comp47350py38/lib/python3.8/site-packages/transformers/generation/utils.py:1268: UserWarning: Input length of input_ids is 454192, but `max_length` is set to 50. This can lead to unexpected behavior. You should consider increasing `max_new_tokens`.\n",
      "  warnings.warn(\n",
      "The attention mask and the pad token id were not set. As a consequence, you may observe unexpected behavior. Please pass your input's `attention_mask` to obtain reliable results.\n",
      "Setting `pad_token_id` to `eos_token_id`:50256 for open-end generation.\n",
      "/Users/clement/opt/anaconda3/envs/comp47350py38/lib/python3.8/site-packages/transformers/generation/utils.py:1268: UserWarning: Input length of input_ids is 6351, but `max_length` is set to 50. This can lead to unexpected behavior. You should consider increasing `max_new_tokens`.\n",
      "  warnings.warn(\n",
      "The attention mask and the pad token id were not set. As a consequence, you may observe unexpected behavior. Please pass your input's `attention_mask` to obtain reliable results.\n",
      "Setting `pad_token_id` to `eos_token_id`:50256 for open-end generation.\n",
      "/Users/clement/opt/anaconda3/envs/comp47350py38/lib/python3.8/site-packages/transformers/generation/utils.py:1268: UserWarning: Input length of input_ids is 6352, but `max_length` is set to 50. This can lead to unexpected behavior. You should consider increasing `max_new_tokens`.\n",
      "  warnings.warn(\n",
      "The attention mask and the pad token id were not set. As a consequence, you may observe unexpected behavior. Please pass your input's `attention_mask` to obtain reliable results.\n",
      "Setting `pad_token_id` to `eos_token_id`:50256 for open-end generation.\n",
      "/Users/clement/opt/anaconda3/envs/comp47350py38/lib/python3.8/site-packages/transformers/generation/utils.py:1268: UserWarning: Input length of input_ids is 6355, but `max_length` is set to 50. This can lead to unexpected behavior. You should consider increasing `max_new_tokens`.\n",
      "  warnings.warn(\n",
      "The attention mask and the pad token id were not set. As a consequence, you may observe unexpected behavior. Please pass your input's `attention_mask` to obtain reliable results.\n",
      "Setting `pad_token_id` to `eos_token_id`:50256 for open-end generation.\n",
      "/Users/clement/opt/anaconda3/envs/comp47350py38/lib/python3.8/site-packages/transformers/generation/utils.py:1268: UserWarning: Input length of input_ids is 6350, but `max_length` is set to 50. This can lead to unexpected behavior. You should consider increasing `max_new_tokens`.\n",
      "  warnings.warn(\n",
      "The attention mask and the pad token id were not set. As a consequence, you may observe unexpected behavior. Please pass your input's `attention_mask` to obtain reliable results.\n",
      "Setting `pad_token_id` to `eos_token_id`:50256 for open-end generation.\n",
      "/Users/clement/opt/anaconda3/envs/comp47350py38/lib/python3.8/site-packages/transformers/generation/utils.py:1268: UserWarning: Input length of input_ids is 36903, but `max_length` is set to 50. This can lead to unexpected behavior. You should consider increasing `max_new_tokens`.\n",
      "  warnings.warn(\n",
      "The attention mask and the pad token id were not set. As a consequence, you may observe unexpected behavior. Please pass your input's `attention_mask` to obtain reliable results.\n",
      "Setting `pad_token_id` to `eos_token_id`:50256 for open-end generation.\n",
      "/Users/clement/opt/anaconda3/envs/comp47350py38/lib/python3.8/site-packages/transformers/generation/utils.py:1268: UserWarning: Input length of input_ids is 23332, but `max_length` is set to 50. This can lead to unexpected behavior. You should consider increasing `max_new_tokens`.\n",
      "  warnings.warn(\n",
      "The attention mask and the pad token id were not set. As a consequence, you may observe unexpected behavior. Please pass your input's `attention_mask` to obtain reliable results.\n",
      "Setting `pad_token_id` to `eos_token_id`:50256 for open-end generation.\n",
      "The attention mask and the pad token id were not set. As a consequence, you may observe unexpected behavior. Please pass your input's `attention_mask` to obtain reliable results.\n",
      "Setting `pad_token_id` to `eos_token_id`:50256 for open-end generation.\n",
      "The attention mask and the pad token id were not set. As a consequence, you may observe unexpected behavior. Please pass your input's `attention_mask` to obtain reliable results.\n",
      "Setting `pad_token_id` to `eos_token_id`:50256 for open-end generation.\n",
      "The attention mask and the pad token id were not set. As a consequence, you may observe unexpected behavior. Please pass your input's `attention_mask` to obtain reliable results.\n",
      "Setting `pad_token_id` to `eos_token_id`:50256 for open-end generation.\n",
      "The attention mask and the pad token id were not set. As a consequence, you may observe unexpected behavior. Please pass your input's `attention_mask` to obtain reliable results.\n",
      "Setting `pad_token_id` to `eos_token_id`:50256 for open-end generation.\n",
      "The attention mask and the pad token id were not set. As a consequence, you may observe unexpected behavior. Please pass your input's `attention_mask` to obtain reliable results.\n",
      "Setting `pad_token_id` to `eos_token_id`:50256 for open-end generation.\n",
      "/Users/clement/opt/anaconda3/envs/comp47350py38/lib/python3.8/site-packages/transformers/generation/utils.py:1268: UserWarning: Input length of input_ids is 6356, but `max_length` is set to 50. This can lead to unexpected behavior. You should consider increasing `max_new_tokens`.\n",
      "  warnings.warn(\n",
      "The attention mask and the pad token id were not set. As a consequence, you may observe unexpected behavior. Please pass your input's `attention_mask` to obtain reliable results.\n",
      "Setting `pad_token_id` to `eos_token_id`:50256 for open-end generation.\n",
      "/Users/clement/opt/anaconda3/envs/comp47350py38/lib/python3.8/site-packages/transformers/generation/utils.py:1268: UserWarning: Input length of input_ids is 44216, but `max_length` is set to 50. This can lead to unexpected behavior. You should consider increasing `max_new_tokens`.\n",
      "  warnings.warn(\n",
      "The attention mask and the pad token id were not set. As a consequence, you may observe unexpected behavior. Please pass your input's `attention_mask` to obtain reliable results.\n",
      "Setting `pad_token_id` to `eos_token_id`:50256 for open-end generation.\n",
      "/Users/clement/opt/anaconda3/envs/comp47350py38/lib/python3.8/site-packages/transformers/generation/utils.py:1268: UserWarning: Input length of input_ids is 82, but `max_length` is set to 50. This can lead to unexpected behavior. You should consider increasing `max_new_tokens`.\n",
      "  warnings.warn(\n",
      "The attention mask and the pad token id were not set. As a consequence, you may observe unexpected behavior. Please pass your input's `attention_mask` to obtain reliable results.\n",
      "Setting `pad_token_id` to `eos_token_id`:50256 for open-end generation.\n",
      "/Users/clement/opt/anaconda3/envs/comp47350py38/lib/python3.8/site-packages/transformers/generation/utils.py:1268: UserWarning: Input length of input_ids is 83, but `max_length` is set to 50. This can lead to unexpected behavior. You should consider increasing `max_new_tokens`.\n",
      "  warnings.warn(\n",
      "The attention mask and the pad token id were not set. As a consequence, you may observe unexpected behavior. Please pass your input's `attention_mask` to obtain reliable results.\n",
      "Setting `pad_token_id` to `eos_token_id`:50256 for open-end generation.\n",
      "/Users/clement/opt/anaconda3/envs/comp47350py38/lib/python3.8/site-packages/transformers/generation/utils.py:1268: UserWarning: Input length of input_ids is 80, but `max_length` is set to 50. This can lead to unexpected behavior. You should consider increasing `max_new_tokens`.\n",
      "  warnings.warn(\n",
      "The attention mask and the pad token id were not set. As a consequence, you may observe unexpected behavior. Please pass your input's `attention_mask` to obtain reliable results.\n"
     ]
    },
    {
     "name": "stderr",
     "output_type": "stream",
     "text": [
      "Setting `pad_token_id` to `eos_token_id`:50256 for open-end generation.\n"
     ]
    },
    {
     "name": "stdout",
     "output_type": "stream",
     "text": [
      "Please share eval_results_b7af4262-0374420ec8eb414d3670bfd5.csv file with the Judges\n"
     ]
    },
    {
     "name": "stderr",
     "output_type": "stream",
     "text": [
      "/Users/clement/opt/anaconda3/envs/comp47350py38/lib/python3.8/site-packages/transformers/generation/utils.py:1268: UserWarning: Input length of input_ids is 44213, but `max_length` is set to 50. This can lead to unexpected behavior. You should consider increasing `max_new_tokens`.\n",
      "  warnings.warn(\n"
     ]
    }
   ],
   "source": [
    "test4242.run_all_tests(connect_fun, query_fun)"
   ]
  },
  {
   "cell_type": "code",
   "execution_count": null,
   "id": "fd67da71",
   "metadata": {},
   "outputs": [],
   "source": []
  },
  {
   "cell_type": "code",
   "execution_count": null,
   "id": "e95d1701",
   "metadata": {},
   "outputs": [],
   "source": []
  },
  {
   "cell_type": "code",
   "execution_count": null,
   "id": "4a7d0a1c",
   "metadata": {},
   "outputs": [],
   "source": []
  },
  {
   "cell_type": "code",
   "execution_count": null,
   "id": "8492bd4a",
   "metadata": {},
   "outputs": [],
   "source": []
  },
  {
   "cell_type": "code",
   "execution_count": null,
   "id": "ec32cf57",
   "metadata": {},
   "outputs": [],
   "source": []
  }
 ],
 "metadata": {
  "kernelspec": {
   "display_name": "Python 3 (ipykernel)",
   "language": "python",
   "name": "python3"
  },
  "language_info": {
   "codemirror_mode": {
    "name": "ipython",
    "version": 3
   },
   "file_extension": ".py",
   "mimetype": "text/x-python",
   "name": "python",
   "nbconvert_exporter": "python",
   "pygments_lexer": "ipython3",
   "version": "3.8.16"
  }
 },
 "nbformat": 4,
 "nbformat_minor": 5
}
